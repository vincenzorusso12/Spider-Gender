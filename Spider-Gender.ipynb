{
 "cells": [
  {
   "cell_type": "markdown",
   "metadata": {},
   "source": [
    "# Spider-Gender\n",
    "\n",
    "## Fasi:\n",
    "1. Estrazione dei dataset\n",
    "2. Combinazione dei dataset"
   ]
  },
  {
   "cell_type": "markdown",
   "metadata": {},
   "source": [
    "# Estrazione dei dataset\n",
    "In questa fase vengono create le directory contenenti i dataset estratti.  \n",
    "É necessario che nella cartella contenente i file si trovino i **.zip** dei 2 dataset."
   ]
  },
  {
   "cell_type": "code",
   "execution_count": 69,
   "metadata": {},
   "outputs": [],
   "source": [
    "#Inserire in una cartella di lavoro i file zip dei dataset\n",
    "#Creazione delle directory ed estrazione dei dataset\n",
    "import os\n",
    "import utils as u\n",
    "\n",
    "path=r\"C:\\Users\\vince\\Desktop\\Progetto FVAB\"\n",
    "os.chdir(path)\n",
    "cwd = os.getcwd()\n",
    "\n",
    "#Crea directory per estrarre i dataset solo una volta all'inizio\n",
    "u.makedir('celeba')\n",
    "u.makedir('utkface')\n",
    "\n",
    "#Estrae i due dataset solo una volta all'inizio\n",
    "u.unzip('celeba-dataset.zip','celeba')\n",
    "u.unzip('utkface-new.zip','utkface')"
   ]
  },
  {
   "cell_type": "markdown",
   "metadata": {},
   "source": [
    "# Combinazione dei dataset\n",
    "In questa fase sono combinati i due dataset e viene creato un indice che tiene traccia dei nuovi nomi \n",
    "\n",
    "| Old_Name    | New_Name   |\n",
    "| :---: | :---: |\n",
    "|   000001.jpg    | 000001_1.jpg     |\n",
    "|  1_0_0_20161219140627985.jpg.chip.jpg  | 000002_0.jpg       |\n",
    "\n",
    "Il nuovo nome è composto da:\n",
    "* Parte sinistra un intero che incrementa di 1\n",
    "* Parte destra dopo l'underscore che indica la label \n",
    " 0. Donna \n",
    " 1. Uomo"
   ]
  },
  {
   "cell_type": "code",
   "execution_count": 73,
   "metadata": {},
   "outputs": [],
   "source": [
    "import utils as u\n",
    "import os\n",
    "path=r\"C:\\Users\\vince\\Desktop\\Progetto FVAB\"\n",
    "os.chdir(path)\n",
    "\n",
    "u.makedir('merged_dataset')\n",
    "os.chdir('merged_dataset')\n",
    "u.makedir('images')\n",
    "\n",
    "\n",
    "path_images_celeba=r\"C:\\Users\\vince\\Desktop\\Progetto FVAB\\celeba\\img_align_celeba\\img_align_celeba\"\n",
    "path_images_celeba2=r\"C:\\Users\\vince\\Desktop\\Progetto FVAB\\celeba\\img_align_celeba\\img_align_celeba2\"\n",
    "\n",
    "path_images_utkface=r\"C:\\Users\\vince\\Desktop\\Progetto FVAB\\utkface\\UTKFace\"\n",
    "path_images_utkface2=r\"C:\\Users\\vince\\Desktop\\Progetto FVAB\\\\utkface\\UTKFace2\"\n",
    "\n",
    "path_celeba_csv=r\"C:\\Users\\vince\\Desktop\\Progetto FVAB\\celeba\\list_attr_celeba.csv\"\n",
    "path_celeba_csv2=r\"C:\\Users\\vince\\Desktop\\Progetto FVAB\\celeba\\list_attr_celeba2.csv\"\n",
    "\n",
    "dest_path=r\"C:\\Users\\vince\\Desktop\\Progetto FVAB\\merged_dataset\\images\"\n",
    "dest_path_oldnew_csv=r\"C:\\Users\\vince\\Desktop\\Progetto FVAB\\merged_dataset\"\n",
    "\n",
    "u.merge_datasets(path_images_celeba,\n",
    "                 path_images_utkface,\n",
    "                 path_celeba_csv,\n",
    "                 dest_path,\n",
    "                 dest_path_oldnew_csv)\n",
    "#u.merge_utk_only(path_images_utkface2,dest_path_oldnew_csv,dest_path)"
   ]
  },
  {
   "cell_type": "markdown",
   "metadata": {},
   "source": [
    "# Estrazione dei Landmarks\n",
    "In questa fase utilizzo l'algoritmo fornito per ottenere i landmarks sul volto  \n",
    "\n",
    "<img style=\"float:left;\" src=\"web.PNG\">"
   ]
  },
  {
   "cell_type": "code",
   "execution_count": 74,
   "metadata": {},
   "outputs": [],
   "source": [
    "%%capture\n",
    "os.chdir(path)\n",
    "import calcolo_ragnatela as spider\n",
    "spider.extract_landmarks_4circles_4sectors(r\"C:\\Users\\vince\\Desktop\\Progetto FVAB\\shape_predictor_68_face_landmarks.dat\",r'C:\\Users\\vince\\Desktop\\Progetto FVAB\\merged_dataset\\images')"
   ]
  },
  {
   "cell_type": "markdown",
   "metadata": {},
   "source": [
    "# Classificatore\n",
    "Usiamo le SVM  \n",
    "Seed 42\n"
   ]
  },
  {
   "cell_type": "code",
   "execution_count": 2,
   "metadata": {},
   "outputs": [
    {
     "name": "stdout",
     "output_type": "stream",
     "text": [
      "(23707, 63)\n",
      "[[1565 1198]\n",
      " [1155 3195]]\n",
      "              precision    recall  f1-score   support\n",
      "\n",
      "      female       0.58      0.57      0.57      2763\n",
      "       ma le       0.73      0.73      0.73      4350\n",
      "\n",
      "    accuracy                           0.67      7113\n",
      "   macro avg       0.65      0.65      0.65      7113\n",
      "weighted avg       0.67      0.67      0.67      7113\n",
      "\n",
      "0.33080275551806554\n"
     ]
    }
   ],
   "source": [
    "#Import svm model\n",
    "from sklearn import svm\n",
    "from sklearn import metrics\n",
    "from numpy import loadtxt\n",
    "from sklearn import metrics\n",
    "from sklearn.svm import SVC\n",
    "from sklearn.metrics import classification_report, confusion_matrix\n",
    "from joblib import dump, load\n",
    "from sklearn.metrics import mean_absolute_error\n",
    "from numpy import savetxt\n",
    "\n",
    "\n",
    "#Provare con 1000 immagini e cronometrare\n",
    "\n",
    "import pandas as pd\n",
    "from sklearn.model_selection import train_test_split\n",
    "\n",
    "labels= loadtxt('UTK_Matrix.csv',delimiter=',', usecols=(0,))\n",
    "data= loadtxt('UTK_Matrix.csv', delimiter=',',usecols=range(1,64))\n",
    "\n",
    "print(data.shape)\n",
    "\n",
    "\n",
    "X_train, X_test, y_train, y_test = train_test_split(data, labels, test_size=0.3, shuffle=False, random_state=42)\n",
    "\n",
    "svclassifier = SVC(kernel='linear')\n",
    "svclassifier.fit(X_train, y_train)\n",
    "\n",
    "#dump(svclassifier, 'SVM_CelebA.joblib') \n",
    "\n",
    "\n",
    "y_pred = svclassifier.predict(X_test)\n",
    "\n",
    "print(confusion_matrix(y_test,y_pred))\n",
    "print(classification_report(y_test,y_pred,target_names=['female','male']))\n",
    "\n",
    "print(mean_absolute_error(y_test, y_pred))\n",
    "\n",
    "savetxt('y_test_UTK.csv',y_test,fmt='%i',delimiter=',')\n",
    "savetxt('y_pred_UTK.csv',y_pred,fmt='%i',delimiter=',')\n",
    "\n",
    "#Senza stratificazione"
   ]
  },
  {
   "cell_type": "code",
   "execution_count": 1,
   "metadata": {},
   "outputs": [
    {
     "name": "stdout",
     "output_type": "stream",
     "text": [
      "more females\n",
      "30672\n",
      "(171926, 65)\n"
     ]
    }
   ],
   "source": [
    "import utils as u\n",
    "\n",
    "#CelebA\n",
    "#u.extract_male('CelebA_Matrix.csv','CelebA_Male.csv')\n",
    "#u.extract_female('CelebA_Matrix.csv','CelebA_Female.csv')\n",
    "u.balance_datasets_random_50_50('CelebA_Male.csv','CelebA_Female.csv','a.csv')\n",
    "\n",
    "#UTK\n",
    "#u.extract_male('UTK_Matrix.csv','UTK_Male.csv')\n",
    "#u.extract_female('UTK_Matrix.csv','UTK_Female.csv')\n",
    "#u.balance_datasets_random_50_50('UTK_Male.csv','UTK_Female.csv','b.csv')\n",
    "\n",
    "#UTK+CelebA\n",
    "#u.extract_male('CelebA+UTK_Matrix.csv','CelebA+UTK_Male.csv')\n",
    "#u.extract_female('CelebA+UTK_Matrix.csv','CelebA+UTK_Female.csv')\n",
    "#u.balance_datasets_random_50_50('UTK+CelebA_Male.csv','UTK+CelebA_Female.csv','c.csv')"
   ]
  },
  {
   "cell_type": "code",
   "execution_count": 15,
   "metadata": {},
   "outputs": [
    {
     "name": "stdout",
     "output_type": "stream",
     "text": [
      "(22806, 63)\n",
      "3421\n",
      "3421\n",
      "7982\n",
      "7982\n",
      "[[2385 1036]\n",
      " [1113 2308]]\n",
      "              precision    recall  f1-score   support\n",
      "\n",
      "      female       0.68      0.70      0.69      3421\n",
      "        male       0.69      0.67      0.68      3421\n",
      "\n",
      "    accuracy                           0.69      6842\n",
      "   macro avg       0.69      0.69      0.69      6842\n",
      "weighted avg       0.69      0.69      0.69      6842\n",
      "\n",
      "0.314089447529962\n"
     ]
    }
   ],
   "source": [
    "#Import svm model\n",
    "from sklearn import svm\n",
    "from sklearn import metrics\n",
    "from numpy import loadtxt\n",
    "from sklearn import metrics\n",
    "from sklearn.svm import SVC\n",
    "from sklearn.metrics import classification_report, confusion_matrix\n",
    "from joblib import dump, load\n",
    "from sklearn.metrics import mean_absolute_error\n",
    "from numpy import savetxt\n",
    "import numpy as np\n",
    "import pandas as pd\n",
    "\n",
    "\n",
    "\n",
    "\n",
    "\n",
    "import pandas as pd\n",
    "from sklearn.model_selection import train_test_split \n",
    "\n",
    "labels= loadtxt('UTK_Even_Gender.csv',delimiter=',', usecols=(0,))\n",
    "data= loadtxt('UTK_Even_Gender.csv', delimiter=',',usecols=range(1,64))\n",
    "\n",
    "print(data.shape)\n",
    "\n",
    "\n",
    "X_train, X_test, y_train, y_test = train_test_split(data, labels, test_size=0.3, shuffle=True,stratify=labels, random_state=42)\n",
    "\n",
    "#Numero di uni nelle label del test set (e zeri in basso)\n",
    "print(np.count_nonzero(y_test == 1)) \n",
    "print(np.count_nonzero(y_test == 0))\n",
    "\n",
    "#Numero di uni nelle label del training set (e zeri in basso)\n",
    "print(np.count_nonzero(y_train == 1))\n",
    "print(np.count_nonzero(y_train == 0))\n",
    "\n",
    "\n",
    "svclassifier = SVC(kernel='linear')\n",
    "svclassifier.fit(X_train, y_train)\n",
    "\n",
    "dump(svclassifier, 'SVM_UTK_Balanced_42.joblib') \n",
    "\n",
    "\n",
    "y_pred = svclassifier.predict(X_test)\n",
    "\n",
    "print(confusion_matrix(y_test,y_pred))\n",
    "print(classification_report(y_test,y_pred,target_names=['female','male']))\n",
    "\n",
    "print(mean_absolute_error(y_test, y_pred))\n",
    "\n",
    "savetxt('y_test_UTK_Balanced_42.csv',y_test,fmt='%i',delimiter=',')\n",
    "savetxt('y_pred_UTK_Balanced_42.csv',y_pred,fmt='%i',delimiter=',')  \n",
    "   \n",
    "#Con stratificazione\n",
    "\n",
    "\n"
   ]
  },
  {
   "cell_type": "markdown",
   "metadata": {},
   "source": [
    "# Esperimento 2\n",
    "1. Utilizzare classificatore addestrato su **CelebA** con test set **UTKFace** intero <br/><br/>\n",
    "\n",
    "2. Utilizzare classificatore addestrato su **CelebA** con test set **UTKFace** utilizzato in precedenza<br/><br/>\n",
    "\n",
    "3. Utilizzare classificatore addestrato su **UTKFace** con test set **CelebA** intero  <br/><br/>\n",
    "\n",
    "4. Utilizzare classificatore addestrato su **UTKFace** con test set **CelebA** utilizzato in precedenza <br/><br/>\n"
   ]
  },
  {
   "cell_type": "code",
   "execution_count": 1,
   "metadata": {},
   "outputs": [
    {
     "name": "stdout",
     "output_type": "stream",
     "text": [
      "[[17111  8678]\n",
      " [ 7773 18016]]\n",
      "              precision    recall  f1-score   support\n",
      "\n",
      "      female       0.69      0.66      0.68     25789\n",
      "        male       0.67      0.70      0.69     25789\n",
      "\n",
      "    accuracy                           0.68     51578\n",
      "   macro avg       0.68      0.68      0.68     51578\n",
      "weighted avg       0.68      0.68      0.68     51578\n",
      "\n",
      "0.3189538175190973\n"
     ]
    }
   ],
   "source": [
    "from sklearn import svm\n",
    "from sklearn import metrics\n",
    "from numpy import loadtxt\n",
    "from sklearn import metrics\n",
    "from sklearn.svm import SVC\n",
    "from sklearn.metrics import classification_report, confusion_matrix\n",
    "from joblib import dump, load\n",
    "from sklearn.metrics import mean_absolute_error\n",
    "from numpy import savetxt\n",
    "import numpy as np\n",
    "import pandas as pd\n",
    "from sklearn.model_selection import train_test_split \n",
    "\n",
    "loaded_model = load('SVM_UTK_Balanced_42.joblib')\n",
    "\n",
    "\n",
    "labels= loadtxt('CelebA_Even_Gender.csv',delimiter=',', usecols=(0,))\n",
    "data= loadtxt('CelebA_Even_Gender.csv', delimiter=',',usecols=range(1,64))\n",
    "\n",
    "X_train, X_test, y_train, y_test = train_test_split(data, labels, test_size=0.3, shuffle=True,stratify=labels, random_state=42)\n",
    "\n",
    "\n",
    "\n",
    "y_pred = loaded_model.predict(X_test)\n",
    "\n",
    "print(confusion_matrix(y_test,y_pred))\n",
    "print(classification_report(y_test,y_pred,target_names=['female','male']))\n",
    "\n",
    "print(mean_absolute_error(y_test, y_pred))\n",
    "\n",
    "savetxt('y_test_2nd_experiment_4UTK-CelebA42.csv',y_test,fmt='%i',delimiter=',')\n",
    "savetxt('y_pred_2nd_experiment_4UTK-CelebA42.csv',y_pred,fmt='%i',delimiter=',')  "
   ]
  },
  {
   "cell_type": "markdown",
   "metadata": {},
   "source": [
    "# Integrazione\n",
    "Utilizziamo una rete neurale e ripetiamo i 2 esperimenti\n",
    "\n",
    "## Primo esperimento\n",
    "\n"
   ]
  },
  {
   "cell_type": "code",
   "execution_count": 7,
   "metadata": {
    "scrolled": true
   },
   "outputs": [
    {
     "name": "stdout",
     "output_type": "stream",
     "text": [
      "Train on 136799 samples\n",
      "Epoch 1/20\n",
      "136799/136799 [==============================] - 27s 201us/sample - loss: 0.5188 - accuracy: 0.7406 - mae: 0.5101\n",
      "Epoch 2/20\n",
      "136799/136799 [==============================] - 27s 200us/sample - loss: 0.4856 - accuracy: 0.7647 - mae: 0.5131\n",
      "Epoch 3/20\n",
      "136799/136799 [==============================] - 27s 199us/sample - loss: 0.4725 - accuracy: 0.7728 - mae: 0.5102\n",
      "Epoch 4/20\n",
      "136799/136799 [==============================] - 27s 200us/sample - loss: 0.4626 - accuracy: 0.7806 - mae: 0.5083\n",
      "Epoch 5/20\n",
      "136799/136799 [==============================] - 27s 198us/sample - loss: 0.4555 - accuracy: 0.7840 - mae: 0.5068\n",
      "Epoch 6/20\n",
      "136799/136799 [==============================] - 28s 203us/sample - loss: 0.4484 - accuracy: 0.7882 - mae: 0.5052\n",
      "Epoch 7/20\n",
      "136799/136799 [==============================] - 28s 201us/sample - loss: 0.4419 - accuracy: 0.7930 - mae: 0.5033\n",
      "Epoch 8/20\n",
      "136799/136799 [==============================] - 27s 200us/sample - loss: 0.4358 - accuracy: 0.7970 - mae: 0.5023\n",
      "Epoch 9/20\n",
      "136799/136799 [==============================] - 27s 201us/sample - loss: 0.4289 - accuracy: 0.8005 - mae: 0.5009\n",
      "Epoch 10/20\n",
      "136799/136799 [==============================] - 28s 203us/sample - loss: 0.4232 - accuracy: 0.8036 - mae: 0.5019\n",
      "Epoch 11/20\n",
      "136799/136799 [==============================] - 27s 200us/sample - loss: 0.4175 - accuracy: 0.8071 - mae: 0.5008\n",
      "Epoch 12/20\n",
      "136799/136799 [==============================] - 27s 201us/sample - loss: 0.4109 - accuracy: 0.8116 - mae: 0.4991\n",
      "Epoch 13/20\n",
      "136799/136799 [==============================] - 28s 202us/sample - loss: 0.4046 - accuracy: 0.8149 - mae: 0.4993\n",
      "Epoch 14/20\n",
      "136799/136799 [==============================] - 28s 203us/sample - loss: 0.3976 - accuracy: 0.8180 - mae: 0.4987\n",
      "Epoch 15/20\n",
      "136799/136799 [==============================] - 28s 202us/sample - loss: 0.3920 - accuracy: 0.8216 - mae: 0.4987\n",
      "Epoch 16/20\n",
      "136799/136799 [==============================] - 28s 202us/sample - loss: 0.3843 - accuracy: 0.8264 - mae: 0.4988\n",
      "Epoch 17/20\n",
      "136799/136799 [==============================] - 28s 204us/sample - loss: 0.3780 - accuracy: 0.8302 - mae: 0.4982\n",
      "Epoch 18/20\n",
      "136799/136799 [==============================] - 28s 202us/sample - loss: 0.3702 - accuracy: 0.8341 - mae: 0.4984\n",
      "Epoch 19/20\n",
      "136799/136799 [==============================] - 28s 201us/sample - loss: 0.3629 - accuracy: 0.8376 - mae: 0.4971\n",
      "Epoch 20/20\n",
      "136799/136799 [==============================] - 27s 201us/sample - loss: 0.3559 - accuracy: 0.8424 - mae: 0.4973\n",
      "dict_keys(['loss', 'accuracy', 'mae'])\n"
     ]
    },
    {
     "data": {
      "image/png": "[encoded data removed]",
      "text/plain": [
       "<Figure size 432x288 with 1 Axes>"
      ]
     },
     "metadata": {
      "needs_background": "light"
     },
     "output_type": "display_data"
    },
    {
     "data": {
      "image/png": "[encoded data removed]",
      "text/plain": [
       "<Figure size 432x288 with 1 Axes>"
      ]
     },
     "metadata": {
      "needs_background": "light"
     },
     "output_type": "display_data"
    },
    {
     "name": "stdout",
     "output_type": "stream",
     "text": [
      "[0 1 1 ... 1 0 1]\n",
      "INFO:tensorflow:Assets written to: Neural_network_UTK+CelebA_Even_Gender_Balanced\\assets\n",
      "[[24207  5108]\n",
      " [ 7859 21455]]\n",
      "              precision    recall  f1-score   support\n",
      "\n",
      "      female       0.75      0.83      0.79     29315\n",
      "        male       0.81      0.73      0.77     29314\n",
      "\n",
      "    accuracy                           0.78     58629\n",
      "   macro avg       0.78      0.78      0.78     58629\n",
      "weighted avg       0.78      0.78      0.78     58629\n",
      "\n",
      "0.2211704105476812\n"
     ]
    }
   ],
   "source": [
    "from sklearn import metrics\n",
    "from numpy import loadtxt\n",
    "from sklearn import metrics\n",
    "from sklearn.svm import SVC\n",
    "from sklearn.metrics import classification_report, confusion_matrix\n",
    "from joblib import dump, load\n",
    "from sklearn.metrics import mean_absolute_error\n",
    "from numpy import savetxt\n",
    "import numpy as np\n",
    "import pandas as pd\n",
    "from sklearn.model_selection import train_test_split \n",
    "import tensorflow as tf\n",
    "import matplotlib.pyplot as plt\n",
    "\n",
    "\n",
    "name='UTK+CelebA_Even_Gender'\n",
    "\n",
    "labels= loadtxt(name+'.csv',delimiter=',', usecols=(0,))\n",
    "data= loadtxt(name+'.csv', delimiter=',',usecols=range(1,64))\n",
    "\n",
    "X_train, X_test, y_train, y_test = train_test_split(data, labels, test_size=0.3, shuffle=True,stratify=labels, random_state=42)\n",
    "\n",
    "model = tf.keras.models.Sequential()\n",
    "model.add(tf.keras.layers.Flatten(input_shape=(63,)))\n",
    "model.add(tf.keras.layers.Dense(768, activation='relu'))\n",
    "model.add(tf.keras.layers.Dense(768, activation='relu'))\n",
    "model.add(tf.keras.layers.Dense(2, activation='sigmoid'))\n",
    "\n",
    "\n",
    "opt = tf.keras.optimizers.Adam(learning_rate=0.0001)\n",
    "\n",
    "model.compile(optimizer = opt,\n",
    "         loss = 'sparse_categorical_crossentropy',\n",
    "         metrics = ['accuracy','mae'])\n",
    "history=model.fit(X_train, y_train, epochs = 20)\n",
    "\n",
    "print(history.history.keys())\n",
    "\n",
    "\n",
    "# summarize history for accuracy\n",
    "plt.plot(history.history['accuracy'])\n",
    "plt.title('model accuracy')\n",
    "plt.ylabel('accuracy')\n",
    "plt.xlabel('epoch')\n",
    "plt.legend(['train', 'test'], loc='upper left')\n",
    "plt.savefig(name+' accuracy.png')\n",
    "plt.show()\n",
    "\n",
    "# summarize history for loss\n",
    "plt.plot(history.history['mae'])\n",
    "plt.title('model MAE')\n",
    "plt.ylabel('mae')\n",
    "plt.xlabel('epoch')\n",
    "plt.legend(['train', 'test'], loc='upper left')\n",
    "plt.savefig(name+' loss.png')\n",
    "plt.show()\n",
    "\n",
    "\n",
    "y_pred=model.predict_classes(X_test)\n",
    "print(y_pred)\n",
    "savetxt('Neural_network_'+name+' Predictions',y_test,fmt='%i',delimiter=',')\n",
    "\n",
    "\n",
    "\n",
    "model.save('Neural_network_'+name+'_Balanced')\n",
    "model.save_weights(name+'_weights.h5')\n",
    "\n",
    "\n",
    "print(confusion_matrix(y_test,y_pred))\n",
    "print(classification_report(y_test,y_pred,target_names=['female','male']))\n",
    "\n",
    "print(mean_absolute_error(y_test, y_pred))\n",
    "\n",
    "\n",
    "\n"
   ]
  },
  {
   "cell_type": "markdown",
   "metadata": {},
   "source": [
    "## Secondo Esperimento"
   ]
  },
  {
   "cell_type": "code",
   "execution_count": 14,
   "metadata": {},
   "outputs": [
    {
     "name": "stdout",
     "output_type": "stream",
     "text": [
      "[0 0 1 ... 1 1 1]\n",
      "INFO:tensorflow:Assets written to: Exp2_Neural_network_Neural_network_UTK_Even_Gender_Balanced Model on CelebA_Even_Gender dataset_Balanced\\assets\n",
      "[[56835 29128]\n",
      " [17029 68934]]\n",
      "              precision    recall  f1-score   support\n",
      "\n",
      "      female       0.77      0.66      0.71     85963\n",
      "        male       0.70      0.80      0.75     85963\n",
      "\n",
      "    accuracy                           0.73    171926\n",
      "   macro avg       0.74      0.73      0.73    171926\n",
      "weighted avg       0.74      0.73      0.73    171926\n",
      "\n",
      "0.26847015576468947\n"
     ]
    }
   ],
   "source": [
    "from sklearn import metrics\n",
    "from numpy import loadtxt\n",
    "from sklearn import metrics\n",
    "from sklearn.svm import SVC\n",
    "from sklearn.metrics import classification_report, confusion_matrix\n",
    "from joblib import dump, load\n",
    "from sklearn.metrics import mean_absolute_error\n",
    "from numpy import savetxt\n",
    "import numpy as np\n",
    "import pandas as pd\n",
    "from sklearn.model_selection import train_test_split \n",
    "import tensorflow as tf\n",
    "from tensorflow.keras.models import load_model\n",
    "\n",
    "dataset='CelebA_Even_Gender'\n",
    "name_model='Neural_network_UTK_Even_Gender_Balanced'\n",
    "\n",
    "y_test= loadtxt(dataset+'.csv',delimiter=',', usecols=(0,))\n",
    "X_test= loadtxt(dataset+'.csv', delimiter=',',usecols=range(1,64))\n",
    "\n",
    "\n",
    "\n",
    "#X_train, X_test, y_train, y_test = train_test_split(data, labels, test_size=0.3, shuffle=True,stratify=labels, random_state=42)\n",
    "\n",
    "model = load_model(name_model)\n",
    "\n",
    "y_pred=model.predict_classes(X_test)\n",
    "print(y_pred)\n",
    "savetxt('Exp2_Neural_network_'+name_model+' Model on '+dataset+' dataset Predictions',y_test,fmt='%i',delimiter=',')\n",
    "\n",
    "\n",
    "model.save('Exp2_Neural_network_'+name_model+' Model on '+dataset+' dataset_Balanced')\n",
    "model.save_weights('Exp2_'+name_model+' Model on '+dataset+' dataset_weights.h5')\n",
    "\n",
    "print(confusion_matrix(y_test,y_pred))\n",
    "print(classification_report(y_test,y_pred,target_names=['female','male']))\n",
    "\n",
    "print(mean_absolute_error(y_test, y_pred))\n"
   ]
  },
  {
   "cell_type": "code",
   "execution_count": null,
   "metadata": {},
   "outputs": [],
   "source": []
  }
 ],
 "metadata": {
  "celltoolbar": "Tags",
  "kernelspec": {
   "display_name": "Python 3",
   "language": "python",
   "name": "python3"
  },
  "language_info": {
   "codemirror_mode": {
    "name": "ipython",
    "version": 3
   },
   "file_extension": ".py",
   "mimetype": "text/x-python",
   "name": "python",
   "nbconvert_exporter": "python",
   "pygments_lexer": "ipython3",
   "version": "3.7.6"
  }
 },
 "nbformat": 4,
 "nbformat_minor": 4
}
