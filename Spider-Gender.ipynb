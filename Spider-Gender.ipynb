{
 "cells": [
  {
   "cell_type": "code",
   "execution_count": 15,
   "metadata": {},
   "outputs": [
    {
     "name": "stdout",
     "output_type": "stream",
     "text": [
      "C:\\Users\\vince\\Desktop\\Progetto FVAB\n"
     ]
    }
   ],
   "source": [
    "#Inserire in una cartella di lavoro i file zip dei dataset\n",
    "#Creazione delle directory ed estrazione dei dataset\n",
    "\n",
    "import os\n",
    "cwd = os.getcwd()\n",
    "print(cwd)\n",
    "\n",
    "#Crea directory per estrarre i dataset solo una volta all'inizio\n",
    "if not os.path.exists('celeba'):\n",
    "    os.makedirs('celeba')\n",
    "if not os.path.exists('utkface'):\n",
    "    os.makedirs('utkface')\n",
    "\n",
    "#Estrae i due dataset solo una volta all'inizio\n",
    "from zipfile import ZipFile\n",
    "with ZipFile('celeba-dataset.zip', 'r') as zipObj:\n",
    "    if len(os.listdir('celeba')) == 0:\n",
    "        zipObj.extractall('celeba')\n",
    "\n",
    "with ZipFile('utkface-new.zip', 'r') as zipObj:\n",
    "    if len(os.listdir('utkface')) == 0:\n",
    "        zipObj.extractall('utkface')"
   ]
  },
  {
   "cell_type": "code",
   "execution_count": null,
   "metadata": {},
   "outputs": [],
   "source": []
  },
  {
   "cell_type": "code",
   "execution_count": null,
   "metadata": {},
   "outputs": [],
   "source": []
  }
 ],
 "metadata": {
  "kernelspec": {
   "display_name": "Python 3",
   "language": "python",
   "name": "python3"
  },
  "language_info": {
   "codemirror_mode": {
    "name": "ipython",
    "version": 3
   },
   "file_extension": ".py",
   "mimetype": "text/x-python",
   "name": "python",
   "nbconvert_exporter": "python",
   "pygments_lexer": "ipython3",
   "version": "3.7.6"
  }
 },
 "nbformat": 4,
 "nbformat_minor": 4
}
