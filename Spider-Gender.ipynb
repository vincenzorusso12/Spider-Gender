{
 "cells": [
  {
   "cell_type": "markdown",
   "metadata": {},
   "source": [
    "# Spider-Gender\n",
    "\n",
    "## Fasi:\n",
    "1. Estrazione dei dataset\n",
    "2. Combinazione dei dataset"
   ]
  },
  {
   "cell_type": "markdown",
   "metadata": {},
   "source": [
    "# Estrazione dei dataset\n",
    "In questa fase vengono create le directory contenenti i dataset estratti.  \n",
    "É necessario che nella cartella contenente i file si trovino i **.zip** dei 2 dataset."
   ]
  },
  {
   "cell_type": "code",
   "execution_count": 69,
   "metadata": {},
   "outputs": [],
   "source": [
    "#Inserire in una cartella di lavoro i file zip dei dataset\n",
    "#Creazione delle directory ed estrazione dei dataset\n",
    "import os\n",
    "import utils as u\n",
    "\n",
    "path=r\"C:\\Users\\vince\\Desktop\\Progetto FVAB\"\n",
    "os.chdir(path)\n",
    "cwd = os.getcwd()\n",
    "\n",
    "#Crea directory per estrarre i dataset solo una volta all'inizio\n",
    "u.makedir('celeba')\n",
    "u.makedir('utkface')\n",
    "\n",
    "#Estrae i due dataset solo una volta all'inizio\n",
    "u.unzip('celeba-dataset.zip','celeba')\n",
    "u.unzip('utkface-new.zip','utkface')"
   ]
  },
  {
   "cell_type": "markdown",
   "metadata": {},
   "source": [
    "# Combinazione dei dataset\n",
    "In questa fase sono combinati i due dataset e viene creato un indice che tiene traccia dei nuovi nomi \n",
    "\n",
    "| Old_Name    | New_Name   |\n",
    "| :---: | :---: |\n",
    "|   000001.jpg    | 000001_1.jpg     |\n",
    "|  1_0_0_20161219140627985.jpg.chip.jpg  | 000002_0.jpg       |\n",
    "\n",
    "Il nuovo nome è composto da:\n",
    "* Parte sinistra un intero che incrementa di 1\n",
    "* Parte destra dopo l'underscore che indica la label \n",
    " 0. Donna \n",
    " 1. Uomo"
   ]
  },
  {
   "cell_type": "code",
   "execution_count": 73,
   "metadata": {},
   "outputs": [],
   "source": [
    "import utils as u\n",
    "import os\n",
    "path=r\"C:\\Users\\vince\\Desktop\\Progetto FVAB\"\n",
    "os.chdir(path)\n",
    "\n",
    "u.makedir('merged_dataset')\n",
    "os.chdir('merged_dataset')\n",
    "u.makedir('images')\n",
    "\n",
    "\n",
    "path_images_celeba=r\"C:\\Users\\vince\\Desktop\\Progetto FVAB\\celeba\\img_align_celeba\\img_align_celeba\"\n",
    "path_images_celeba2=r\"C:\\Users\\vince\\Desktop\\Progetto FVAB\\celeba\\img_align_celeba\\img_align_celeba2\"\n",
    "\n",
    "path_images_utkface=r\"C:\\Users\\vince\\Desktop\\Progetto FVAB\\utkface\\UTKFace\"\n",
    "path_images_utkface2=r\"C:\\Users\\vince\\Desktop\\Progetto FVAB\\\\utkface\\UTKFace2\"\n",
    "\n",
    "path_celeba_csv=r\"C:\\Users\\vince\\Desktop\\Progetto FVAB\\celeba\\list_attr_celeba.csv\"\n",
    "path_celeba_csv2=r\"C:\\Users\\vince\\Desktop\\Progetto FVAB\\celeba\\list_attr_celeba2.csv\"\n",
    "\n",
    "dest_path=r\"C:\\Users\\vince\\Desktop\\Progetto FVAB\\merged_dataset\\images\"\n",
    "dest_path_oldnew_csv=r\"C:\\Users\\vince\\Desktop\\Progetto FVAB\\merged_dataset\"\n",
    "\n",
    "u.merge_datasets(path_images_celeba,\n",
    "                 path_images_utkface,\n",
    "                 path_celeba_csv,\n",
    "                 dest_path,\n",
    "                 dest_path_oldnew_csv)\n",
    "#u.merge_utk_only(path_images_utkface2,dest_path_oldnew_csv,dest_path)"
   ]
  },
  {
   "cell_type": "markdown",
   "metadata": {},
   "source": [
    "# Estrazione dei Landmarks\n",
    "In questa fase utilizzo l'algoritmo fornito per ottenere i landmarks sul volto  \n",
    "\n",
    "<img style=\"float:left;\" src=\"web.PNG\">"
   ]
  },
  {
   "cell_type": "code",
   "execution_count": 74,
   "metadata": {},
   "outputs": [],
   "source": [
    "%%capture\n",
    "os.chdir(path)\n",
    "import calcolo_ragnatela as spider\n",
    "spider.extract_landmarks_4circles_4sectors(r\"C:\\Users\\vince\\Desktop\\Progetto FVAB\\shape_predictor_68_face_landmarks.dat\",r'C:\\Users\\vince\\Desktop\\Progetto FVAB\\merged_dataset\\images')"
   ]
  },
  {
   "cell_type": "markdown",
   "metadata": {},
   "source": [
    "# Classificatore\n",
    "Usiamo le SVM"
   ]
  },
  {
   "cell_type": "code",
   "execution_count": 2,
   "metadata": {},
   "outputs": [
    {
     "name": "stdout",
     "output_type": "stream",
     "text": [
      "(23707, 63)\n",
      "[[1565 1198]\n",
      " [1155 3195]]\n",
      "              precision    recall  f1-score   support\n",
      "\n",
      "      female       0.58      0.57      0.57      2763\n",
      "       ma le       0.73      0.73      0.73      4350\n",
      "\n",
      "    accuracy                           0.67      7113\n",
      "   macro avg       0.65      0.65      0.65      7113\n",
      "weighted avg       0.67      0.67      0.67      7113\n",
      "\n",
      "0.33080275551806554\n"
     ]
    }
   ],
   "source": [
    "#Import svm model\n",
    "from sklearn import svm\n",
    "from sklearn import metrics\n",
    "from numpy import loadtxt\n",
    "from sklearn import metrics\n",
    "from sklearn.svm import SVC\n",
    "from sklearn.metrics import classification_report, confusion_matrix\n",
    "from joblib import dump, load\n",
    "from sklearn.metrics import mean_absolute_error\n",
    "from numpy import savetxt\n",
    "\n",
    "\n",
    "#Provare con 1000 immagini e cronometrare\n",
    "\n",
    "import pandas as pd\n",
    "from sklearn.model_selection import train_test_split\n",
    "\n",
    "labels= loadtxt('UTK_Matrix.csv',delimiter=',', usecols=(0,))\n",
    "data= loadtxt('UTK_Matrix.csv', delimiter=',',usecols=range(1,64))\n",
    "\n",
    "print(data.shape)\n",
    "\n",
    "\n",
    "X_train, X_test, y_train, y_test = train_test_split(data, labels, test_size=0.3, shuffle=False)\n",
    "\n",
    "svclassifier = SVC(kernel='linear')\n",
    "svclassifier.fit(X_train, y_train)\n",
    "\n",
    "#dump(svclassifier, 'SVM_CelebA.joblib') \n",
    "\n",
    "\n",
    "y_pred = svclassifier.predict(X_test)\n",
    "\n",
    "print(confusion_matrix(y_test,y_pred))\n",
    "print(classification_report(y_test,y_pred,target_names=['female','male']))\n",
    "\n",
    "print(mean_absolute_error(y_test, y_pred))\n",
    "\n",
    "savetxt('y_test_UTK.csv',y_test,fmt='%i',delimiter=',')\n",
    "savetxt('y_pred_UTK.csv',y_pred,fmt='%i',delimiter=',')\n",
    "\n",
    "#Senza stratificazione"
   ]
  },
  {
   "cell_type": "code",
   "execution_count": 6,
   "metadata": {},
   "outputs": [
    {
     "name": "stdout",
     "output_type": "stream",
     "text": [
      "<class 'numpy.ndarray'>\n",
      "(23707, 65)\n",
      "<class 'numpy.ndarray'>\n",
      "(23707, 65)\n",
      "11403\n",
      "11403\n",
      "(22806, 65)\n"
     ]
    }
   ],
   "source": [
    "import utils as u\n",
    "\n",
    "#CelebA\n",
    "#u.extract_male('CelebA_Matrix.csv','CelebA_Male.csv')\n",
    "#u.extract_female('CelebA_Matrix.csv','CelebA_Female.csv')\n",
    "#u.balance_datasets_random_50_50('CelebA_Male.csv','CelebA_Female.csv','CelebA_Even_Gender.csv')\n",
    "\n",
    "#UTK\n",
    "#u.extract_male('UTK_Matrix.csv','UTK_Male.csv')\n",
    "#u.extract_female('UTK_Matrix.csv','UTK_Female.csv')\n",
    "#u.balance_datasets_random_50_50('UTK_Male.csv','UTK_Female.csv','UTK_Even_Gender.csv')"
   ]
  },
  {
   "cell_type": "code",
   "execution_count": null,
   "metadata": {},
   "outputs": [],
   "source": []
  }
 ],
 "metadata": {
  "celltoolbar": "Tags",
  "kernelspec": {
   "display_name": "Python 3",
   "language": "python",
   "name": "python3"
  },
  "language_info": {
   "codemirror_mode": {
    "name": "ipython",
    "version": 3
   },
   "file_extension": ".py",
   "mimetype": "text/x-python",
   "name": "python",
   "nbconvert_exporter": "python",
   "pygments_lexer": "ipython3",
   "version": "3.7.6"
  }
 },
 "nbformat": 4,
 "nbformat_minor": 4
}
