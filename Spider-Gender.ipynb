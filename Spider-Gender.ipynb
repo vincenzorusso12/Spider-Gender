{
 "cells": [
  {
   "cell_type": "markdown",
   "metadata": {},
   "source": [
    "# Spider-Gender\n",
    "\n",
    "## Fasi:\n",
    "1. Estrazione dei dataset\n",
    "2. Combinazione dei dataset"
   ]
  },
  {
   "cell_type": "markdown",
   "metadata": {},
   "source": [
    "# Estrazione dei dataset\n",
    "In questa fase vengono create le directory contenenti i dataset estratti.  \n",
    "É necessario che nella cartella contenente i file si trovino i **.zip** dei 2 dataset."
   ]
  },
  {
   "cell_type": "code",
   "execution_count": 1,
   "metadata": {},
   "outputs": [],
   "source": [
    "#Inserire in una cartella di lavoro i file zip dei dataset\n",
    "#Creazione delle directory ed estrazione dei dataset\n",
    "import os\n",
    "import utils as u\n",
    "\n",
    "path=r\"C:\\Users\\vince\\Desktop\\Progetto FVAB\"\n",
    "os.chdir(path)\n",
    "cwd = os.getcwd()\n",
    "\n",
    "#Crea directory per estrarre i dataset solo una volta all'inizio\n",
    "u.makedir('celeba')\n",
    "u.makedir('utkface')\n",
    "\n",
    "#Estrae i due dataset solo una volta all'inizio\n",
    "u.unzip('celeba-dataset.zip','celeba')\n",
    "u.unzip('utkface-new.zip','utkface')"
   ]
  },
  {
   "cell_type": "markdown",
   "metadata": {},
   "source": [
    "# Combinazione dei dataset\n",
    "In questa fase sono combinati i due dataset e viene creato un indice che tiene traccia dei nuovi nomi \n",
    "\n",
    "| Old_Name    | New_Name   |\n",
    "| :---: | :---: |\n",
    "|   000001.jpg    | 000001_1.jpg     |\n",
    "|  1_0_0_20161219140627985.jpg.chip.jpg  | 000002_0.jpg       |\n",
    "\n",
    "Il nuovo nome è composto da:\n",
    "* Parte sinistra un intero che incrementa di 1\n",
    "* Parte destra dopo l'underscore che indica la label \n",
    " 0. Donna \n",
    " 1. Uomo"
   ]
  },
  {
   "cell_type": "code",
   "execution_count": 2,
   "metadata": {},
   "outputs": [],
   "source": [
    "import utils as u\n",
    "import os\n",
    "path=r\"C:\\Users\\vince\\Desktop\\Progetto FVAB\"\n",
    "os.chdir(path)\n",
    "\n",
    "u.makedir('merged_dataset')\n",
    "os.chdir('merged_dataset')\n",
    "u.makedir('images')\n",
    "\n",
    "\n",
    "path_images_celeba=r\"C:\\Users\\vince\\Desktop\\Progetto FVAB\\celeba\\img_align_celeba\\img_align_celeba\"\n",
    "path_images_celeba2=r\"C:\\Users\\vince\\Desktop\\Progetto FVAB\\celeba\\img_align_celeba\\img_align_celeba2\"\n",
    "\n",
    "path_images_utkface=r\"C:\\Users\\vince\\Desktop\\Progetto FVAB\\utkface\\UTKFace\"\n",
    "path_images_utkface2=r\"C:\\Users\\vince\\Desktop\\Progetto FVAB\\\\utkface\\UTKFace2\"\n",
    "\n",
    "path_celeba_csv=r\"C:\\Users\\vince\\Desktop\\Progetto FVAB\\celeba\\list_attr_celeba.csv\"\n",
    "path_celeba_csv2=r\"C:\\Users\\vince\\Desktop\\Progetto FVAB\\celeba\\list_attr_celeba2.csv\"\n",
    "\n",
    "dest_path=r\"C:\\Users\\vince\\Desktop\\Progetto FVAB\\merged_dataset\\images\"\n",
    "dest_path_oldnew_csv=r\"C:\\Users\\vince\\Desktop\\Progetto FVAB\\merged_dataset\"\n",
    "\n",
    "u.merge_datasets(path_images_celeba2,\n",
    "                 path_images_utkface2,\n",
    "                 path_celeba_csv2,\n",
    "                 dest_path,\n",
    "                 dest_path_oldnew_csv)\n",
    "#u.merge_utk_only(path_images_utkface2,dest_path_oldnew_csv,dest_path)"
   ]
  },
  {
   "cell_type": "markdown",
   "metadata": {},
   "source": [
    "# Estrazione dei Landmarks\n",
    "In questa fase utilizzo l'algoritmo fornito per ottenere i landmarks sul volto  \n",
    "\n",
    "<img style=\"float:left;\" src=\"web.PNG\">"
   ]
  },
  {
   "cell_type": "code",
   "execution_count": 3,
   "metadata": {},
   "outputs": [],
   "source": [
    "%%capture\n",
    "os.chdir(path)\n",
    "import calcolo_ragnatela as spider\n",
    "spider.extract_landmarks_4circles_4sectors(r\"C:\\Users\\vince\\Desktop\\Progetto FVAB\\shape_predictor_68_face_landmarks.dat\",r'C:\\Users\\vince\\Desktop\\Progetto FVAB\\merged_dataset\\images')"
   ]
  },
  {
   "cell_type": "code",
   "execution_count": 4,
   "metadata": {
    "scrolled": true
   },
   "outputs": [
    {
     "name": "stdout",
     "output_type": "stream",
     "text": [
      "0    000001_1.jpg\n",
      "1    000002_1.jpg\n",
      "2    000004_1.jpg\n",
      "3    000005_0.jpg\n",
      "4    000006_0.jpg\n",
      "5    000007_0.jpg\n",
      "6    000008_0.jpg\n",
      "7    000009_0.jpg\n",
      "8    000010_0.jpg\n",
      "Name: nome, dtype: object\n",
      "(9, 3)\n",
      "(9,)\n",
      "(6,)\n",
      "(6,)\n",
      "(3,)\n",
      "(3,)\n",
      "0    [0. 0. 0. 0. 3. 0. 0. 2. 0. 3. 5. 0. 7. 3. 2. ...\n",
      "1    [0. 0. 0. 0. 3. 0. 0. 2. 0. 3. 6. 0. 7. 3. 1. ...\n",
      "2    [0. 0. 1. 0. 2. 0. 0. 2. 0. 1. 4. 0. 5. 1. 0. ...\n",
      "3    [0. 0. 0. 0. 3. 0. 0. 2. 3. 3. 2. 0. 5. 2. 2. ...\n",
      "4    [0. 0. 0. 0. 2. 0. 0. 3. 1. 1. 1. 0. 4. 1. 1. ...\n",
      "5    [0. 0. 2. 0. 0. 0. 0. 3. 1. 2. 3. 0. 1. 2. 3. ...\n",
      "Name: landmark, dtype: object\n",
      "0    000001_1.jpg\n",
      "1    000002_1.jpg\n",
      "2    000004_1.jpg\n",
      "3    000005_0.jpg\n",
      "4    000006_0.jpg\n",
      "5    000007_0.jpg\n",
      "Name: nome, dtype: object\n",
      "6    [0. 0. 0. 0. 3. 0. 0. 2. 3. 4. 5. 0. 1. 4. 3. ...\n",
      "7    [0. 0. 0. 0. 2. 0. 0. 5. 1. 2. 2. 0. 5. 1. 2. ...\n",
      "8    [0. 0. 2. 0. 1. 0. 0. 2. 2. 1. 4. 0. 2. 1. 3. ...\n",
      "Name: landmark, dtype: object\n",
      "6    000008_0.jpg\n",
      "7    000009_0.jpg\n",
      "8    000010_0.jpg\n",
      "Name: nome, dtype: object\n"
     ]
    }
   ],
   "source": [
    "import pandas as pd\n",
    "from sklearn.model_selection import train_test_split\n",
    "\n",
    "\n",
    "data=pd.read_csv('LandmarksWithLabel.csv')\n",
    "\n",
    "print(data.nome)\n",
    "\n",
    "X_train, X_test, y_train, y_test = train_test_split(data.landmark, data.nome, test_size=0.3, shuffle=False)\n",
    "\n",
    "print(data.shape)\n",
    "print(data.nome.shape)\n",
    "print(X_train.shape)\n",
    "print(y_train.shape)\n",
    "print(X_test.shape)\n",
    "print(y_test.shape)\n",
    "\n",
    "print(X_train)\n",
    "print(y_train)\n",
    "print(X_test)\n",
    "print(y_test)"
   ]
  },
  {
   "cell_type": "code",
   "execution_count": null,
   "metadata": {},
   "outputs": [],
   "source": []
  },
  {
   "cell_type": "code",
   "execution_count": null,
   "metadata": {},
   "outputs": [],
   "source": []
  }
 ],
 "metadata": {
  "celltoolbar": "Tags",
  "kernelspec": {
   "display_name": "Python 3",
   "language": "python",
   "name": "python3"
  },
  "language_info": {
   "codemirror_mode": {
    "name": "ipython",
    "version": 3
   },
   "file_extension": ".py",
   "mimetype": "text/x-python",
   "name": "python",
   "nbconvert_exporter": "python",
   "pygments_lexer": "ipython3",
   "version": "3.7.6"
  }
 },
 "nbformat": 4,
 "nbformat_minor": 4
}
