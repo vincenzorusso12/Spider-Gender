{
 "cells": [
  {
   "cell_type": "code",
   "execution_count": 14,
   "metadata": {},
   "outputs": [
    {
     "name": "stdout",
     "output_type": "stream",
     "text": [
      "C:\\Users\\vince\\Desktop\\Progetto FVAB\n"
     ]
    }
   ],
   "source": [
    "#Inserire in una cartella di lavoro i file zip dei dataset\n",
    "#Creazione delle directory ed estrazione dei dataset\n",
    "\n",
    "import os\n",
    "path=r\"C:\\Users\\vince\\Desktop\\Progetto FVAB\"\n",
    "os.chdir(path)\n",
    "cwd = os.getcwd()\n",
    "print(cwd)\n",
    "\n",
    "#Crea directory per estrarre i dataset solo una volta all'inizio\n",
    "if not os.path.exists('celeba'):\n",
    "    os.makedirs('celeba')\n",
    "if not os.path.exists('utkface'):\n",
    "    os.makedirs('utkface')\n",
    "\n",
    "#Estrae i due dataset solo una volta all'inizio\n",
    "from zipfile import ZipFile\n",
    "with ZipFile('celeba-dataset.zip', 'r') as zipObj:\n",
    "    if len(os.listdir('celeba')) == 0:\n",
    "        zipObj.extractall('celeba')\n",
    "\n",
    "with ZipFile('utkface-new.zip', 'r') as zipObj:\n",
    "    if len(os.listdir('utkface')) == 0:\n",
    "        zipObj.extractall('utkface')"
   ]
  },
  {
   "cell_type": "code",
   "execution_count": 73,
   "metadata": {},
   "outputs": [
    {
     "name": "stdout",
     "output_type": "stream",
     "text": [
      "C:\\Users\\vince\\Desktop\\Progetto FVAB\n",
      "['000001.jpg', '000002.jpg', '000003.jpg', '000004.jpg', '000005.jpg']\n",
      "Column names are image_id, 5_o_Clock_Shadow, Arched_Eyebrows, Attractive, Bags_Under_Eyes, Bald, Bangs, Big_Lips, Big_Nose, Black_Hair, Blond_Hair, Blurry, Brown_Hair, Bushy_Eyebrows, Chubby, Double_Chin, Eyeglasses, Goatee, Gray_Hair, Heavy_Makeup, High_Cheekbones, Male, Mouth_Slightly_Open, Mustache, Narrow_Eyes, No_Beard, Oval_Face, Pale_Skin, Pointy_Nose, Receding_Hairline, Rosy_Cheeks, Sideburns, Smiling, Straight_Hair, Wavy_Hair, Wearing_Earrings, Wearing_Hat, Wearing_Lipstick, Wearing_Necklace, Wearing_Necktie, Young\n",
      "Male\n",
      "\t000001.jpg, SEX -1 .\n",
      "\t000002.jpg, SEX -1 .\n",
      "\t000003.jpg, SEX 1 .\n",
      "\t000004.jpg, SEX -1 .\n",
      "\t000005.jpg, SEX -1 .\n",
      "Processed 6 lines.\n"
     ]
    }
   ],
   "source": [
    "import shutil,os,csv\n",
    "path=r\"C:\\Users\\vince\\Desktop\\Progetto FVAB\"\n",
    "os.chdir(path)\n",
    "cwd = os.getcwd()\n",
    "print(cwd)\n",
    "\n",
    "created=False\n",
    "if not os.path.exists('merged_dataset') and not created:\n",
    "    os.makedirs('merged_dataset')\n",
    "    created=True\n",
    "os.chdir('merged_dataset')\n",
    "\n",
    "if not os.path.exists('images'):\n",
    "    os.makedirs('images')\n",
    "\n",
    "cwd = os.getcwd()\n",
    "\n",
    "path_images_celeba=r\"C:\\Users\\vince\\Desktop\\Progetto FVAB\\celeba\\img_align_celeba\\img_align_celeba\"\n",
    "path_images_celeba2=r\"C:\\Users\\vince\\Desktop\\Progetto FVAB\\celeba\\img_align_celeba\\img_align_celeba2\"\n",
    "\n",
    "path_images_utkface=r\"C:\\Users\\vince\\Desktop\\Progetto FVAB\\utkface\\UTKFace\"\n",
    "path_images_utkface2=r\"C:\\Users\\vince\\Desktop\\Progetto FVAB\\\\utkface\\UTKFace2\"\n",
    "\n",
    "path_celeba_csv=r\"C:\\Users\\vince\\Desktop\\Progetto FVAB\\celeba\\list_attr_celeba.csv\"\n",
    "path_celeba_csv2=r\"C:\\Users\\vince\\Desktop\\Progetto FVAB\\celeba\\list_attr_celeba2.csv\"\n",
    "\n",
    "dest_path=r\"C:\\Users\\vince\\Desktop\\Progetto FVAB\\merged_dataset\\images\"\n",
    "dest_path_oldnew_csv=r\"C:\\Users\\vince\\Desktop\\Progetto FVAB\\merged_dataset\"\n",
    "\n",
    "print(os.listdir(path_images_celeba2))\n",
    "i=0\n",
    "\n",
    "\n",
    "#Parte di CelebA\n",
    "#Copia le immagini in merged_dataset\\images e crea un file csv dove mappo oldname_newname\n",
    "with open(path_celeba_csv2) as csv_file, \\\n",
    "    open(os.path.join(dest_path_oldnew_csv,\"oldname_newname.csv\"), mode='w',newline=\"\") as name_file:\n",
    "    csv_reader = csv.reader(csv_file, delimiter=',')\n",
    "    name_writer = csv.writer(name_file, delimiter=',', quotechar='\"', quoting=csv.QUOTE_ALL)\n",
    "\n",
    "    line_count = 0\n",
    "\n",
    "    for row in csv_reader:\n",
    "        if line_count == 0:\n",
    "            print(f'Column names are {\", \".join(row)}')\n",
    "            print(row[21]) #Colonna MALE : 1 è uomo, -1 è donna\n",
    "            line_count += 1\n",
    "            \n",
    "            name_writer.writerow(['Old_Name', 'New_Name'])\n",
    "\n",
    "        else:\n",
    "            print(f'\\t{row[0]}, SEX {row[21]} .')\n",
    "            line_count += 1\n",
    "            \n",
    "            if(row[21]==\"1\"):\n",
    "                new_file_name= '%06d_1.jpg'%(line_count-1,)\n",
    "            else:\n",
    "                new_file_name= '%06d_0.jpg'%(line_count-1,)\n",
    "\n",
    "            shutil.copy(os.path.join(path_images_celeba2,row[0]),os.path.join(dest_path, new_file_name))\n",
    "            #creare csv nomevecchio nome nuovo\n",
    "            name_writer.writerow([row[0],new_file_name])\n",
    "   \n",
    "    print(f'Processed {line_count} lines.')\n",
    "    \n",
    "    for filename in os.listdir(path_images_utkface2):\n",
    "        #print(filename)\n",
    "        items = filename.split('_')\n",
    "        line_count += 1\n",
    "            \n",
    "        if(items[1]==\"0\"):#in UTKFace 0 è uomo\n",
    "            new_file_name= '%06d_1.jpg'%(line_count-1,)\n",
    "        else:\n",
    "              new_file_name= '%06d_0.jpg'%(line_count-1,)\n",
    "\n",
    "        shutil.copy(os.path.join(path_images_utkface2,filename),os.path.join(dest_path, new_file_name))\n",
    "        #creare csv nomevecchio nome nuovo\n",
    "        name_writer.writerow([filename,new_file_name])\n",
    "    \n",
    "#Parte di UTKFace vedere cosa scegliere attento al nome dei file\n"
   ]
  },
  {
   "cell_type": "code",
   "execution_count": 23,
   "metadata": {},
   "outputs": [
    {
     "name": "stdout",
     "output_type": "stream",
     "text": [
      "C:\\Users\\vince\\Desktop\\Progetto FVAB\\celeba\n",
      "<class 'pandas.core.frame.DataFrame'>\n",
      "RangeIndex: 202599 entries, 0 to 202598\n",
      "Data columns (total 2 columns):\n",
      " #   Column     Non-Null Count   Dtype \n",
      "---  ------     --------------   ----- \n",
      " 0   image_id   202599 non-null  object\n",
      " 1   partition  202599 non-null  int64 \n",
      "dtypes: int64(1), object(1)\n",
      "memory usage: 3.1+ MB\n"
     ]
    }
   ],
   "source": [
    "import os\n",
    "path=r\"C:\\Users\\vince\\Desktop\\Progetto FVAB\\celeba\"\n",
    "os.chdir(path)\n",
    "cwd = os.getcwd()\n",
    "print(cwd)\n",
    "\n",
    "import pandas as pd\n",
    "test=pd.read_csv('list_eval_partition.csv')\n",
    "test.info()"
   ]
  },
  {
   "cell_type": "code",
   "execution_count": 24,
   "metadata": {},
   "outputs": [
    {
     "name": "stdout",
     "output_type": "stream",
     "text": [
      "C:\\Users\\vince\\Desktop\\Progetto FVAB\\celeba\n",
      "<class 'pandas.core.frame.DataFrame'>\n",
      "RangeIndex: 202599 entries, 0 to 202598\n",
      "Data columns (total 11 columns):\n",
      " #   Column        Non-Null Count   Dtype \n",
      "---  ------        --------------   ----- \n",
      " 0   image_id      202599 non-null  object\n",
      " 1   lefteye_x     202599 non-null  int64 \n",
      " 2   lefteye_y     202599 non-null  int64 \n",
      " 3   righteye_x    202599 non-null  int64 \n",
      " 4   righteye_y    202599 non-null  int64 \n",
      " 5   nose_x        202599 non-null  int64 \n",
      " 6   nose_y        202599 non-null  int64 \n",
      " 7   leftmouth_x   202599 non-null  int64 \n",
      " 8   leftmouth_y   202599 non-null  int64 \n",
      " 9   rightmouth_x  202599 non-null  int64 \n",
      " 10  rightmouth_y  202599 non-null  int64 \n",
      "dtypes: int64(10), object(1)\n",
      "memory usage: 17.0+ MB\n"
     ]
    }
   ],
   "source": [
    "import os\n",
    "path=r\"C:\\Users\\vince\\Desktop\\Progetto FVAB\\celeba\"\n",
    "os.chdir(path)\n",
    "cwd = os.getcwd()\n",
    "print(cwd)\n",
    "\n",
    "import pandas as pd\n",
    "test=pd.read_csv('list_landmarks_align_celeba.csv')\n",
    "test.info()"
   ]
  },
  {
   "cell_type": "code",
   "execution_count": null,
   "metadata": {},
   "outputs": [],
   "source": []
  }
 ],
 "metadata": {
  "kernelspec": {
   "display_name": "Python 3",
   "language": "python",
   "name": "python3"
  },
  "language_info": {
   "codemirror_mode": {
    "name": "ipython",
    "version": 3
   },
   "file_extension": ".py",
   "mimetype": "text/x-python",
   "name": "python",
   "nbconvert_exporter": "python",
   "pygments_lexer": "ipython3",
   "version": "3.7.6"
  }
 },
 "nbformat": 4,
 "nbformat_minor": 4
}
